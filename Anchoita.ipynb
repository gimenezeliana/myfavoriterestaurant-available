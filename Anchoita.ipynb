{
 "cells": [
  {
   "cell_type": "code",
   "execution_count": 67,
   "id": "9e4e18a8",
   "metadata": {},
   "outputs": [],
   "source": [
    "# Importing libraries\n",
    "import requests\n",
    "import json\n",
    "import re\n",
    "from datetime import datetime, timedelta, timezone\n",
    "from threading import Timer\n",
    "import schedule\n",
    "import time"
   ]
  },
  {
   "cell_type": "markdown",
   "id": "dce27095",
   "metadata": {},
   "source": [
    "Links I will use\n"
   ]
  },
  {
   "cell_type": "code",
   "execution_count": 49,
   "id": "77f5ad73",
   "metadata": {},
   "outputs": [],
   "source": [
    "url = \"https://api.meitre.com/api/calendar-availability-new/154/2/dinner\""
   ]
  },
  {
   "cell_type": "code",
   "execution_count": 50,
   "id": "bbe5dc39",
   "metadata": {},
   "outputs": [],
   "source": [
    "url_test = \"https://api.meitre.com/api/calendar-availability-new/189/2/dinner\""
   ]
  },
  {
   "cell_type": "markdown",
   "id": "32faa27c",
   "metadata": {},
   "source": [
    "Start searching for the information that I need"
   ]
  },
  {
   "cell_type": "code",
   "execution_count": 51,
   "id": "0d6f92ca",
   "metadata": {},
   "outputs": [],
   "source": [
    "r = requests.get(url).json()\n",
    "\n"
   ]
  },
  {
   "cell_type": "code",
   "execution_count": 52,
   "id": "7af88683",
   "metadata": {},
   "outputs": [],
   "source": [
    "jsn_data = json.dumps(r)\n",
    "with open('data.json','w') as f:\n",
    "    f.write(jsn_data)\n"
   ]
  },
  {
   "cell_type": "code",
   "execution_count": 53,
   "id": "1dd7bb3c",
   "metadata": {},
   "outputs": [
    {
     "name": "stdout",
     "output_type": "stream",
     "text": [
      "0\n",
      "0\n",
      "0\n",
      "0\n",
      "0\n",
      "0\n",
      "0\n",
      "0\n",
      "0\n",
      "0\n",
      "0\n",
      "0\n",
      "0\n",
      "0\n",
      "0\n",
      "0\n",
      "0\n",
      "0\n",
      "0\n",
      "0\n"
     ]
    }
   ],
   "source": [
    "for item in r['calendarInfo']:\n",
    "    date = item['isAvailable']\n",
    "    available = item['type']\n",
    "\n",
    "    print(date)\n"
   ]
  },
  {
   "cell_type": "markdown",
   "id": "e4dffbb8",
   "metadata": {},
   "source": [
    "Make a function to send me an email when a spot is available"
   ]
  },
  {
   "cell_type": "code",
   "execution_count": 54,
   "id": "6dffb8d4",
   "metadata": {},
   "outputs": [],
   "source": [
    "import smtplib\n"
   ]
  },
  {
   "cell_type": "code",
   "execution_count": 118,
   "id": "17a58c78",
   "metadata": {},
   "outputs": [],
   "source": [
    "def send_email():\n",
    "    content = (\"Hay lugar en anchoita!  https://anchoita.meitre.com/\")\n",
    "    mail = smtplib.SMTP('smtp.gmail.com',587)\n",
    "    mail.ehlo()\n",
    "    mail.starttls()\n",
    "    mail.login('MAILSENDER','PASSWORD')\n",
    "    mail.sendmail('MAILSENDER','MAILRECEIVER', content) \n",
    "    mail.close()\n",
    "    print(\"Sent\")"
   ]
  },
  {
   "cell_type": "markdown",
   "id": "ab51bfc7",
   "metadata": {},
   "source": [
    "Create a function that checks the code and then sends me an email when a spot is available"
   ]
  },
  {
   "cell_type": "code",
   "execution_count": 119,
   "id": "9170cec0",
   "metadata": {},
   "outputs": [],
   "source": [
    "def available_yes(r):\n",
    "    for item in r['calendarInfo']:\n",
    "        if item['isAvailable'] == 1:\n",
    "            send_email()\n",
    "            print('Hay lugar en Anchoita!')\n",
    "            break\n",
    "    else:\n",
    "        print('No hay lugar en Anchoita!')"
   ]
  },
  {
   "cell_type": "code",
   "execution_count": 120,
   "id": "d5c9253d",
   "metadata": {},
   "outputs": [
    {
     "name": "stdout",
     "output_type": "stream",
     "text": [
      "No hay lugar en Anchoita!\n"
     ]
    }
   ],
   "source": [
    "available_yes(r)"
   ]
  },
  {
   "cell_type": "markdown",
   "id": "e4a7c9e9",
   "metadata": {},
   "source": [
    "Use datetime library to program my function in order to run at certain hour everyday."
   ]
  },
  {
   "cell_type": "code",
   "execution_count": 114,
   "id": "fd3f695a",
   "metadata": {},
   "outputs": [],
   "source": [
    "x=datetime.today()\n",
    "x = x.replace(tzinfo=timezone.utc)\n",
    "y = x.replace(day=x.day, hour=15, minute=5, second=0, microsecond=0) + timedelta(days=1)\n",
    "delta_t=y-x\n",
    "\n",
    "secs=delta_t.total_seconds()\n",
    "\n",
    "t = Timer(secs, available_yes)\n",
    "t.start()"
   ]
  },
  {
   "cell_type": "code",
   "execution_count": 115,
   "id": "592ba2d7",
   "metadata": {},
   "outputs": [
    {
     "name": "stdout",
     "output_type": "stream",
     "text": [
      "2022-03-06T15:03:48.968763+00:00\n"
     ]
    }
   ],
   "source": [
    "print(x.isoformat())\n"
   ]
  },
  {
   "cell_type": "code",
   "execution_count": null,
   "id": "3995e8e4",
   "metadata": {},
   "outputs": [],
   "source": []
  }
 ],
 "metadata": {
  "kernelspec": {
   "display_name": "Python 3 (ipykernel)",
   "language": "python",
   "name": "python3"
  },
  "language_info": {
   "codemirror_mode": {
    "name": "ipython",
    "version": 3
   },
   "file_extension": ".py",
   "mimetype": "text/x-python",
   "name": "python",
   "nbconvert_exporter": "python",
   "pygments_lexer": "ipython3",
   "version": "3.8.12"
  }
 },
 "nbformat": 4,
 "nbformat_minor": 5
}
